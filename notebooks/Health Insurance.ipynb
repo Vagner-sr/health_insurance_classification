{
 "cells": [
  {
   "cell_type": "markdown",
   "id": "2e6620e2-1327-4654-9f8b-f05270013cfb",
   "metadata": {},
   "source": [
    "# 0.0 Imports"
   ]
  },
  {
   "cell_type": "code",
   "execution_count": 125,
   "id": "9664ceb8-a81b-4018-98c0-829b590eeef9",
   "metadata": {},
   "outputs": [],
   "source": [
    "import pandas as pd\n",
    "import numpy as np\n",
    "\n",
    "import seaborn as sns\n",
    "import scikitplot as skplt\n",
    "\n",
    "from matplotlib import pyplot as plt\n",
    "\n",
    "from sklearn import preprocessing as pp\n",
    "from sklearn import model_selection as ms\n",
    "from sklearn import ensemble as en\n",
    "from sklearn import neighbors as nh\n",
    "from sklearn import linear_model as lm"
   ]
  },
  {
   "cell_type": "markdown",
   "id": "74b9e17e-906d-4fce-9408-adf54ad46761",
   "metadata": {},
   "source": [
    "# 0.1 Loading Data"
   ]
  },
  {
   "cell_type": "code",
   "execution_count": 126,
   "id": "ac2d1ee8-8d65-4cc6-81a6-e2d00332a879",
   "metadata": {},
   "outputs": [],
   "source": [
    "df_raw = pd.read_csv('../data/raw/train.csv')"
   ]
  },
  {
   "cell_type": "markdown",
   "id": "a877cfcf-d738-460d-aed6-fe2ec61f5134",
   "metadata": {},
   "source": [
    "# 1.0 Data Description"
   ]
  },
  {
   "cell_type": "code",
   "execution_count": 127,
   "id": "3e0bd380-06c0-4552-aeee-3ed0bb627077",
   "metadata": {},
   "outputs": [],
   "source": [
    "df1 = df_raw.copy()"
   ]
  },
  {
   "cell_type": "code",
   "execution_count": 128,
   "id": "7f37bef1-783b-493f-b56a-6845f9485e8e",
   "metadata": {},
   "outputs": [],
   "source": [
    "cols_new = ['id', 'gender', 'age', 'driving_license', 'region_code',\n",
    "       'previously_insured', 'vehicle_age', 'vehicle_damage', 'annual_premium',\n",
    "       'policy_sales_channel', 'vintage', 'response']\n",
    "df1.columns = cols_new"
   ]
  },
  {
   "cell_type": "markdown",
   "id": "21233020-281e-4fe5-8d99-ba1add432c71",
   "metadata": {},
   "source": [
    "## 1.1 Data Dimension"
   ]
  },
  {
   "cell_type": "code",
   "execution_count": 129,
   "id": "57eb70a3-40c0-4cc3-a90a-17043aa6e8d6",
   "metadata": {},
   "outputs": [
    {
     "name": "stdout",
     "output_type": "stream",
     "text": [
      "Number of rows: 381109\n",
      "Number of columns: 12\n"
     ]
    }
   ],
   "source": [
    "print('Number of rows: {}'.format(df1.shape[0]))\n",
    "print('Number of columns: {}'.format(df1.shape[1]))"
   ]
  },
  {
   "cell_type": "markdown",
   "id": "e52faf13-1006-4bf4-b7f5-cf06f86d2a3c",
   "metadata": {},
   "source": [
    "## 1.2 Data Types"
   ]
  },
  {
   "cell_type": "code",
   "execution_count": 130,
   "id": "1d2b650a-fd8e-471c-a20e-ef28b599b4e5",
   "metadata": {},
   "outputs": [
    {
     "data": {
      "text/plain": [
       "id                        int64\n",
       "gender                   object\n",
       "age                       int64\n",
       "driving_license           int64\n",
       "region_code             float64\n",
       "previously_insured        int64\n",
       "vehicle_age              object\n",
       "vehicle_damage           object\n",
       "annual_premium          float64\n",
       "policy_sales_channel    float64\n",
       "vintage                   int64\n",
       "response                  int64\n",
       "dtype: object"
      ]
     },
     "execution_count": 130,
     "metadata": {},
     "output_type": "execute_result"
    }
   ],
   "source": [
    "df1.dtypes"
   ]
  },
  {
   "cell_type": "markdown",
   "id": "f476c0fd-9475-4364-b2e3-4d4b3f0aad2f",
   "metadata": {},
   "source": [
    "## 1.3 Check N/A"
   ]
  },
  {
   "cell_type": "code",
   "execution_count": 131,
   "id": "bb4d6916-84ce-4c8b-8b23-4c32f14104d8",
   "metadata": {},
   "outputs": [
    {
     "data": {
      "text/plain": [
       "id                      0\n",
       "gender                  0\n",
       "age                     0\n",
       "driving_license         0\n",
       "region_code             0\n",
       "previously_insured      0\n",
       "vehicle_age             0\n",
       "vehicle_damage          0\n",
       "annual_premium          0\n",
       "policy_sales_channel    0\n",
       "vintage                 0\n",
       "response                0\n",
       "dtype: int64"
      ]
     },
     "execution_count": 131,
     "metadata": {},
     "output_type": "execute_result"
    }
   ],
   "source": [
    "df1.isna().sum()"
   ]
  },
  {
   "cell_type": "markdown",
   "id": "6388e453-7b05-4a2b-900e-fe3e424ec4e1",
   "metadata": {},
   "source": [
    "## 1.4 Data Descriptive"
   ]
  },
  {
   "cell_type": "code",
   "execution_count": 132,
   "id": "c4026dce-d812-4b68-9f52-c93d6cfb37b8",
   "metadata": {},
   "outputs": [],
   "source": [
    "num_attributes = df1.select_dtypes(include = ['int64', 'float64'])\n",
    "cat_attributes = df1.select_dtypes(exclude = ['int64', 'float64', 'datetime64[ns]'])"
   ]
  },
  {
   "cell_type": "code",
   "execution_count": 133,
   "id": "a3062080-250c-4495-b588-d46713957bcd",
   "metadata": {},
   "outputs": [
    {
     "data": {
      "text/html": [
       "<div>\n",
       "<style scoped>\n",
       "    .dataframe tbody tr th:only-of-type {\n",
       "        vertical-align: middle;\n",
       "    }\n",
       "\n",
       "    .dataframe tbody tr th {\n",
       "        vertical-align: top;\n",
       "    }\n",
       "\n",
       "    .dataframe thead th {\n",
       "        text-align: right;\n",
       "    }\n",
       "</style>\n",
       "<table border=\"1\" class=\"dataframe\">\n",
       "  <thead>\n",
       "    <tr style=\"text-align: right;\">\n",
       "      <th></th>\n",
       "      <th>id</th>\n",
       "      <th>age</th>\n",
       "      <th>driving_license</th>\n",
       "      <th>region_code</th>\n",
       "      <th>previously_insured</th>\n",
       "      <th>annual_premium</th>\n",
       "      <th>policy_sales_channel</th>\n",
       "      <th>vintage</th>\n",
       "      <th>response</th>\n",
       "    </tr>\n",
       "  </thead>\n",
       "  <tbody>\n",
       "    <tr>\n",
       "      <th>0</th>\n",
       "      <td>190555.0</td>\n",
       "      <td>38.822584</td>\n",
       "      <td>0.997869</td>\n",
       "      <td>26.388807</td>\n",
       "      <td>0.45821</td>\n",
       "      <td>30564.389581</td>\n",
       "      <td>112.034295</td>\n",
       "      <td>154.347397</td>\n",
       "      <td>0.122563</td>\n",
       "    </tr>\n",
       "  </tbody>\n",
       "</table>\n",
       "</div>"
      ],
      "text/plain": [
       "         id        age  driving_license  region_code  previously_insured  \\\n",
       "0  190555.0  38.822584         0.997869    26.388807             0.45821   \n",
       "\n",
       "   annual_premium  policy_sales_channel     vintage  response  \n",
       "0    30564.389581            112.034295  154.347397  0.122563  "
      ]
     },
     "execution_count": 133,
     "metadata": {},
     "output_type": "execute_result"
    }
   ],
   "source": [
    "# Central Tendency - mean, median\n",
    "ct1 = pd.DataFrame(num_attributes.apply( np.mean ) ).T\n",
    "ct2 = pd.DataFrame(num_attributes.apply( np.median ) ).T\n",
    "\n",
    "# Dispersion - std, min, max, range, skew, kurtosis\n",
    "d1 = pd.DataFrame( num_attributes.apply( np.std ) ).T\n",
    "d2 = pd.DataFrame( num_attributes.apply( min ) ).T\n",
    "d3 = pd.DataFrame( num_attributes.apply( max ) ).T\n",
    "d4 = pd.DataFrame( num_attributes.apply(lambda x: x.max() - x.min() ) ).T\n",
    "d5 = pd.DataFrame( num_attributes.apply(lambda x: x.skew() ) ).T\n",
    "d6 = pd.DataFrame( num_attributes.apply(lambda x: x.kurtosis() ) ).T\n",
    "\n",
    "# Concatenate\n",
    "m = pd.concat([d2, d3, d4, ct1, ct2, d1, d5, d6]).T.reset_index()\n",
    "m.columns = (['attributes', 'min', 'max', 'range', 'mean', 'median', 'std', 'skew', 'kurtosis' ])\n",
    "ct1"
   ]
  },
  {
   "cell_type": "markdown",
   "id": "2614e06b-57e2-4ef4-b57b-7bdd14692ce6",
   "metadata": {},
   "source": [
    "# 2.0 Feature Engineering"
   ]
  },
  {
   "cell_type": "code",
   "execution_count": 134,
   "id": "1753c852-118e-46c6-91ef-0d5dc6e62d42",
   "metadata": {},
   "outputs": [],
   "source": [
    "df2 = df1.copy()\n"
   ]
  },
  {
   "cell_type": "code",
   "execution_count": 135,
   "id": "0b0cfc60-4b03-40b1-bb8c-94d6d3012a2f",
   "metadata": {},
   "outputs": [],
   "source": [
    "# vehicle age\n",
    "df2['vehicle_age'] = df2['vehicle_age'].apply(lambda x: 'over_2_years' if x == '> 2 Years' else 'between_1_2_years' \n",
    "                                                                       if x == '1-2 Year'  else 'below_1_year')\n",
    "# vehicle damage\n",
    "df2['vehicle_damage'] = df2['vehicle_damage'].apply( lambda x: 0 if x == 'No' else 1 )"
   ]
  },
  {
   "cell_type": "markdown",
   "id": "61ba6c01-8066-4599-a8a0-0efd49e946e6",
   "metadata": {},
   "source": [
    "# 3.0 Data Filtering"
   ]
  },
  {
   "cell_type": "code",
   "execution_count": 136,
   "id": "78e63d8f-c44a-4d09-b86d-dbed69d1139c",
   "metadata": {},
   "outputs": [],
   "source": [
    "df3 = df2.copy()"
   ]
  },
  {
   "cell_type": "markdown",
   "id": "8acdcbcc-b806-4ac1-b491-c0be1e882513",
   "metadata": {},
   "source": [
    "# 4.0 EDA"
   ]
  },
  {
   "cell_type": "code",
   "execution_count": 137,
   "id": "8782da2a-8448-4e38-abc9-f144685d1942",
   "metadata": {},
   "outputs": [],
   "source": [
    "df4 = df3.copy()"
   ]
  },
  {
   "cell_type": "markdown",
   "id": "dee2a787-fc1d-4cb0-a081-6598dac2a5e9",
   "metadata": {},
   "source": [
    "## 4.1 Univariate Analysis"
   ]
  },
  {
   "cell_type": "code",
   "execution_count": 138,
   "id": "2c6bc90a-7781-406a-9878-c21abebda13a",
   "metadata": {},
   "outputs": [],
   "source": [
    "# 'age'\n",
    "#sns.boxplot(x='response', y='age', data = df4)"
   ]
  },
  {
   "cell_type": "code",
   "execution_count": 139,
   "id": "0706dbed-eae6-46cc-9866-43f261dacb61",
   "metadata": {},
   "outputs": [],
   "source": [
    "#aux00 = df4.loc[df4['response'] == 0, 'age']\n",
    "#sns.histplot(aux00)"
   ]
  },
  {
   "cell_type": "code",
   "execution_count": 140,
   "id": "516af08c-502a-4cf7-bb30-b857bb73094b",
   "metadata": {},
   "outputs": [],
   "source": [
    "#aux00 = df4.loc[df4['response'] == 1, 'age']\n",
    "#sns.histplot(aux00)"
   ]
  },
  {
   "cell_type": "code",
   "execution_count": 141,
   "id": "15f570e3-3d0d-4e62-a354-9e6bed70aa6f",
   "metadata": {},
   "outputs": [],
   "source": [
    "# 'annual_premium'\n",
    "#aux = df4[(df4['annual_premium'] > 10000) & (df4['annual_premium'] < 80000 )]\n",
    "#sns.boxplot(x = 'response', y='annual_premium', data = aux)"
   ]
  },
  {
   "cell_type": "code",
   "execution_count": 142,
   "id": "d4b684fd-aa68-410f-8350-6346cc0a1cf7",
   "metadata": {},
   "outputs": [],
   "source": [
    "#aux00 = aux.loc[aux['response'] == 0, 'annual_premium']\n",
    "#sns.histplot(aux00)"
   ]
  },
  {
   "cell_type": "code",
   "execution_count": 143,
   "id": "c3f48a8f-0152-471d-b9c0-031e53e9f5b0",
   "metadata": {},
   "outputs": [],
   "source": [
    "# 'driving_license'\n",
    "#aux = df4[['driving_license', 'response']].groupby('response').sum().reset_index()\n",
    "#aux['driving_license_perc'] = aux['driving_license'] / aux['driving_license'].sum()\n",
    "#aux.head()"
   ]
  },
  {
   "cell_type": "code",
   "execution_count": 144,
   "id": "be9e6c36-039e-4bcf-a84a-3c8974f3a4ec",
   "metadata": {},
   "outputs": [],
   "source": [
    "# 'region_code'\n",
    "#aux0 = df4[['id', 'region_code', 'response']].groupby(['region_code', 'response']).count().reset_index()\n",
    "#sns.scatterplot(x = 'region_code', y = 'id', hue = 'response', data = aux0)"
   ]
  },
  {
   "cell_type": "code",
   "execution_count": 145,
   "id": "a225c13a-3a71-43e6-a05b-b35a686b1c18",
   "metadata": {},
   "outputs": [],
   "source": [
    "# 'previously_insured'\n",
    "#pd.crosstab(df4['previously_insured'], df4['response']).apply(lambda x: x/x.sum(), axis = 1)"
   ]
  },
  {
   "cell_type": "code",
   "execution_count": 146,
   "id": "bead9581-04c5-41a6-b087-7363d1182602",
   "metadata": {},
   "outputs": [],
   "source": [
    "# 'vehicle_age'\n",
    "#df4[['vehicle_age', 'response']].value_counts(normalize = True).reset_index()"
   ]
  },
  {
   "cell_type": "code",
   "execution_count": 147,
   "id": "3f7fb67f-5c87-4d32-9c18-3ecd7b37f3e5",
   "metadata": {},
   "outputs": [],
   "source": [
    "# 'policy_sales_channel'\n",
    "#plt.figure(figsize = (24, 12))\n",
    "#aux = df4[['policy_sales_channel', 'response']].groupby('policy_sales_channel').sum().reset_index()\n",
    "#sns.barplot(x = 'response', y = 'policy_sales_channel', data = aux)"
   ]
  },
  {
   "cell_type": "markdown",
   "id": "eec19368-da15-4ed9-802e-63d41f923d57",
   "metadata": {},
   "source": [
    "# 5.0 Data Preparation"
   ]
  },
  {
   "cell_type": "code",
   "execution_count": 148,
   "id": "dc81b7e7-d333-48f9-97c2-08b51ab6d492",
   "metadata": {},
   "outputs": [],
   "source": [
    "df5 =df4.copy()"
   ]
  },
  {
   "cell_type": "code",
   "execution_count": 149,
   "id": "36ef11c2-fa27-4ca1-a76b-1179cefdcf98",
   "metadata": {},
   "outputs": [],
   "source": [
    "x = df4.drop('response', axis = 1)\n",
    "y = df4['response'].copy()\n",
    "\n",
    "x_train, x_validation, y_train, y_validation = ms.train_test_split(x, y, test_size = 0.2)\n",
    "\n",
    "df5 = pd.concat([x_train, y_train], axis = 1)"
   ]
  },
  {
   "cell_type": "markdown",
   "id": "468cfa2a-2adb-47d9-bfee-4f7d1e1462da",
   "metadata": {},
   "source": [
    "## Standardization"
   ]
  },
  {
   "cell_type": "code",
   "execution_count": 150,
   "id": "7348b008-ac9f-47d8-aa8f-2e4f2d987357",
   "metadata": {},
   "outputs": [],
   "source": [
    "ss = pp. StandardScaler()\n",
    "\n",
    "# annual_premium\n",
    "df5['annual_premium'] = ss.fit_transform(df5[['annual_premium']].values)"
   ]
  },
  {
   "cell_type": "markdown",
   "id": "6905fe1e-5856-4351-b3a3-b4de294f2a62",
   "metadata": {},
   "source": [
    "## Rescaling"
   ]
  },
  {
   "cell_type": "code",
   "execution_count": 151,
   "id": "e7c8380f-e9bc-42da-87d3-e183a96ea478",
   "metadata": {},
   "outputs": [],
   "source": [
    "mms_age = pp.MinMaxScaler()\n",
    "mms_vintage = pp.MinMaxScaler()\n",
    "\n",
    "# Age\n",
    "df5['age'] = mms_age.fit_transform(df5[['age']].values)\n",
    "\n",
    "# vintage\n",
    "df5['vintage'] = mms_vintage.fit_transform(df5[['vintage']].values)"
   ]
  },
  {
   "cell_type": "markdown",
   "id": "37c41367-eb60-4b59-962f-2688baa58b8c",
   "metadata": {},
   "source": [
    "## Encoder"
   ]
  },
  {
   "cell_type": "code",
   "execution_count": 152,
   "id": "c37b7593-d64d-4d98-98c1-811670f0cff2",
   "metadata": {},
   "outputs": [],
   "source": [
    "# gender - One Hot Encoding / Target encoding\n",
    "target_encode_gender = df5.groupby('gender')['response'].mean()\n",
    "df5.loc[:, 'gender'] = df5['gender'].map(target_encode_gender)\n",
    "\n",
    "# region_code\n",
    "target_encode_region_code = df5.groupby('region_code')['response'].mean()\n",
    "df5.loc[:,'region_code'] = df5['region_code'].map(target_encode_region_code)\n",
    "\n",
    "# vehicle_age\n",
    "df5 = pd.get_dummies(df5, prefix = 'vehicle_age', columns = ['vehicle_age'])\n",
    "\n",
    "# policy_sales_channel\n",
    "fe_policy_sales_channel = df5.groupby('policy_sales_channel').size() / len(df5)\n",
    "df5.loc[:, 'policy_sales_channel'] = df5['policy_sales_channel'].map(fe_policy_sales_channel)\n"
   ]
  },
  {
   "cell_type": "markdown",
   "id": "33561f69-85b2-4073-9e80-7c8d67d934c3",
   "metadata": {},
   "source": [
    "## 5.4 Validation Preparation"
   ]
  },
  {
   "cell_type": "code",
   "execution_count": 153,
   "id": "f479a30f-cb5d-4075-a696-cfb51a3450d5",
   "metadata": {},
   "outputs": [],
   "source": [
    "# Gender\n",
    "x_validation.loc[:, 'gender'] = x_validation.loc[:, 'gender'].map(target_encode_gender)\n",
    "\n",
    "# Age\n",
    "x_validation.loc[:, 'age'] = mms_age.transform(x_validation[['age']].values)\n",
    "\n",
    "# region_code\n",
    "x_validation.loc[:,'region_code'] = x_validation.loc[:, 'region_code'].map(target_encode_region_code)\n",
    "\n",
    "# vehicle_age\n",
    "x_validation = pd.get_dummies(x_validation, prefix = 'vehicle_age', columns = ['vehicle_age'])\n",
    "\n",
    "# annual_premium\n",
    "x_validation.loc[:, 'annual_premium'] = ss.transform(x_validation[['annual_premium']].values)\n",
    "\n",
    "# policy_sales_channel\n",
    "x_validation.loc[:, 'policy_sales_channel'] = x_validation['policy_sales_channel'].map(fe_policy_sales_channel)\n",
    "\n",
    "# vintage\n",
    "x_validation.loc[:, 'vintage'] = mms_vintage.transform(x_validation[['vintage']].values)\n",
    "\n",
    "# fillna\n",
    "x_validation = x_validation.fillna(0)"
   ]
  },
  {
   "cell_type": "markdown",
   "id": "4ce2a169-8808-4429-b2f4-ca09523e3c5e",
   "metadata": {},
   "source": [
    "# 6.0 Feature Selection"
   ]
  },
  {
   "cell_type": "code",
   "execution_count": 154,
   "id": "9c18c137",
   "metadata": {},
   "outputs": [],
   "source": [
    "x = df4.drop('response', axis = 1)\n",
    "y = df4['response'].copy()\n",
    "\n",
    "x_train, x_validation, y_train, y_validation = ms.train_test_split(x, y, test_size = 0.2)"
   ]
  },
  {
   "cell_type": "markdown",
   "id": "00bc51d5-3a43-4045-95dc-02b00eea9942",
   "metadata": {},
   "source": [
    "## 6.1 Features Importance"
   ]
  },
  {
   "cell_type": "code",
   "execution_count": 155,
   "id": "e985ea4f-83e6-4bff-aada-59f9991dd0c0",
   "metadata": {},
   "outputs": [
    {
     "ename": "MemoryError",
     "evalue": "could not allocate 33554432 bytes",
     "output_type": "error",
     "traceback": [
      "\u001b[1;31m---------------------------------------------------------------------------\u001b[0m",
      "\u001b[1;31m_RemoteTraceback\u001b[0m                          Traceback (most recent call last)",
      "\u001b[1;31m_RemoteTraceback\u001b[0m: \n\"\"\"\nTraceback (most recent call last):\n  File \"c:\\Users\\Admin\\AppData\\Local\\Programs\\Python\\Python311\\Lib\\site-packages\\joblib\\_parallel_backends.py\", line 273, in _wrap_func_call\n    return func()\n           ^^^^^^\n  File \"c:\\Users\\Admin\\AppData\\Local\\Programs\\Python\\Python311\\Lib\\site-packages\\joblib\\parallel.py\", line 589, in __call__\n    return [func(*args, **kwargs)\n           ^^^^^^^^^^^^^^^^^^^^^^\n  File \"c:\\Users\\Admin\\AppData\\Local\\Programs\\Python\\Python311\\Lib\\site-packages\\joblib\\parallel.py\", line 589, in <listcomp>\n    return [func(*args, **kwargs)\n            ^^^^^^^^^^^^^^^^^^^^^\n  File \"c:\\Users\\Admin\\AppData\\Local\\Programs\\Python\\Python311\\Lib\\site-packages\\sklearn\\utils\\parallel.py\", line 127, in __call__\n    return self.function(*args, **kwargs)\n           ^^^^^^^^^^^^^^^^^^^^^^^^^^^^^^\n  File \"c:\\Users\\Admin\\AppData\\Local\\Programs\\Python\\Python311\\Lib\\site-packages\\sklearn\\ensemble\\_forest.py\", line 190, in _parallel_build_trees\n    tree.fit(X, y, sample_weight=sample_weight, check_input=False)\n  File \"c:\\Users\\Admin\\AppData\\Local\\Programs\\Python\\Python311\\Lib\\site-packages\\sklearn\\base.py\", line 1152, in wrapper\n    return fit_method(estimator, *args, **kwargs)\n           ^^^^^^^^^^^^^^^^^^^^^^^^^^^^^^^^^^^^^^\n  File \"c:\\Users\\Admin\\AppData\\Local\\Programs\\Python\\Python311\\Lib\\site-packages\\sklearn\\tree\\_classes.py\", line 959, in fit\n    super()._fit(\n  File \"c:\\Users\\Admin\\AppData\\Local\\Programs\\Python\\Python311\\Lib\\site-packages\\sklearn\\tree\\_classes.py\", line 443, in _fit\n    builder.build(self.tree_, X, y, sample_weight, missing_values_in_feature_mask)\n  File \"sklearn\\tree\\_tree.pyx\", line 164, in sklearn.tree._tree.DepthFirstTreeBuilder.build\n  File \"sklearn\\tree\\_tree.pyx\", line 265, in sklearn.tree._tree.DepthFirstTreeBuilder.build\n  File \"sklearn\\tree\\_tree.pyx\", line 803, in sklearn.tree._tree.Tree._add_node\n  File \"sklearn\\tree\\_tree.pyx\", line 771, in sklearn.tree._tree.Tree._resize_c\n  File \"sklearn\\tree\\_utils.pyx\", line 37, in sklearn.tree._utils.safe_realloc\nMemoryError: could not allocate 33554432 bytes\n\"\"\"",
      "\nThe above exception was the direct cause of the following exception:\n",
      "\u001b[1;31mMemoryError\u001b[0m                               Traceback (most recent call last)",
      "Cell \u001b[1;32mIn[155], line 7\u001b[0m\n\u001b[0;32m      5\u001b[0m x_train_n \u001b[38;5;241m=\u001b[39m df5\u001b[38;5;241m.\u001b[39mdrop([\u001b[38;5;124m'\u001b[39m\u001b[38;5;124mid\u001b[39m\u001b[38;5;124m'\u001b[39m, \u001b[38;5;124m'\u001b[39m\u001b[38;5;124mresponse\u001b[39m\u001b[38;5;124m'\u001b[39m], axis \u001b[38;5;241m=\u001b[39m \u001b[38;5;241m1\u001b[39m)\n\u001b[0;32m      6\u001b[0m y_train_n \u001b[38;5;241m=\u001b[39m y_train\u001b[38;5;241m.\u001b[39mvalues\n\u001b[1;32m----> 7\u001b[0m \u001b[43mforest\u001b[49m\u001b[38;5;241;43m.\u001b[39;49m\u001b[43mfit\u001b[49m\u001b[43m(\u001b[49m\u001b[43mx_train_n\u001b[49m\u001b[43m,\u001b[49m\u001b[43m \u001b[49m\u001b[43my_train_n\u001b[49m\u001b[43m)\u001b[49m\n",
      "File \u001b[1;32mc:\\Users\\Admin\\AppData\\Local\\Programs\\Python\\Python311\\Lib\\site-packages\\sklearn\\base.py:1152\u001b[0m, in \u001b[0;36m_fit_context.<locals>.decorator.<locals>.wrapper\u001b[1;34m(estimator, *args, **kwargs)\u001b[0m\n\u001b[0;32m   1145\u001b[0m     estimator\u001b[38;5;241m.\u001b[39m_validate_params()\n\u001b[0;32m   1147\u001b[0m \u001b[38;5;28;01mwith\u001b[39;00m config_context(\n\u001b[0;32m   1148\u001b[0m     skip_parameter_validation\u001b[38;5;241m=\u001b[39m(\n\u001b[0;32m   1149\u001b[0m         prefer_skip_nested_validation \u001b[38;5;129;01mor\u001b[39;00m global_skip_validation\n\u001b[0;32m   1150\u001b[0m     )\n\u001b[0;32m   1151\u001b[0m ):\n\u001b[1;32m-> 1152\u001b[0m     \u001b[38;5;28;01mreturn\u001b[39;00m \u001b[43mfit_method\u001b[49m\u001b[43m(\u001b[49m\u001b[43mestimator\u001b[49m\u001b[43m,\u001b[49m\u001b[43m \u001b[49m\u001b[38;5;241;43m*\u001b[39;49m\u001b[43margs\u001b[49m\u001b[43m,\u001b[49m\u001b[43m \u001b[49m\u001b[38;5;241;43m*\u001b[39;49m\u001b[38;5;241;43m*\u001b[39;49m\u001b[43mkwargs\u001b[49m\u001b[43m)\u001b[49m\n",
      "File \u001b[1;32mc:\\Users\\Admin\\AppData\\Local\\Programs\\Python\\Python311\\Lib\\site-packages\\sklearn\\ensemble\\_forest.py:456\u001b[0m, in \u001b[0;36mBaseForest.fit\u001b[1;34m(self, X, y, sample_weight)\u001b[0m\n\u001b[0;32m    445\u001b[0m trees \u001b[38;5;241m=\u001b[39m [\n\u001b[0;32m    446\u001b[0m     \u001b[38;5;28mself\u001b[39m\u001b[38;5;241m.\u001b[39m_make_estimator(append\u001b[38;5;241m=\u001b[39m\u001b[38;5;28;01mFalse\u001b[39;00m, random_state\u001b[38;5;241m=\u001b[39mrandom_state)\n\u001b[0;32m    447\u001b[0m     \u001b[38;5;28;01mfor\u001b[39;00m i \u001b[38;5;129;01min\u001b[39;00m \u001b[38;5;28mrange\u001b[39m(n_more_estimators)\n\u001b[0;32m    448\u001b[0m ]\n\u001b[0;32m    450\u001b[0m \u001b[38;5;66;03m# Parallel loop: we prefer the threading backend as the Cython code\u001b[39;00m\n\u001b[0;32m    451\u001b[0m \u001b[38;5;66;03m# for fitting the trees is internally releasing the Python GIL\u001b[39;00m\n\u001b[0;32m    452\u001b[0m \u001b[38;5;66;03m# making threading more efficient than multiprocessing in\u001b[39;00m\n\u001b[0;32m    453\u001b[0m \u001b[38;5;66;03m# that case. However, for joblib 0.12+ we respect any\u001b[39;00m\n\u001b[0;32m    454\u001b[0m \u001b[38;5;66;03m# parallel_backend contexts set at a higher level,\u001b[39;00m\n\u001b[0;32m    455\u001b[0m \u001b[38;5;66;03m# since correctness does not rely on using threads.\u001b[39;00m\n\u001b[1;32m--> 456\u001b[0m trees \u001b[38;5;241m=\u001b[39m \u001b[43mParallel\u001b[49m\u001b[43m(\u001b[49m\n\u001b[0;32m    457\u001b[0m \u001b[43m    \u001b[49m\u001b[43mn_jobs\u001b[49m\u001b[38;5;241;43m=\u001b[39;49m\u001b[38;5;28;43mself\u001b[39;49m\u001b[38;5;241;43m.\u001b[39;49m\u001b[43mn_jobs\u001b[49m\u001b[43m,\u001b[49m\n\u001b[0;32m    458\u001b[0m \u001b[43m    \u001b[49m\u001b[43mverbose\u001b[49m\u001b[38;5;241;43m=\u001b[39;49m\u001b[38;5;28;43mself\u001b[39;49m\u001b[38;5;241;43m.\u001b[39;49m\u001b[43mverbose\u001b[49m\u001b[43m,\u001b[49m\n\u001b[0;32m    459\u001b[0m \u001b[43m    \u001b[49m\u001b[43mprefer\u001b[49m\u001b[38;5;241;43m=\u001b[39;49m\u001b[38;5;124;43m\"\u001b[39;49m\u001b[38;5;124;43mthreads\u001b[39;49m\u001b[38;5;124;43m\"\u001b[39;49m\u001b[43m,\u001b[49m\n\u001b[0;32m    460\u001b[0m \u001b[43m\u001b[49m\u001b[43m)\u001b[49m\u001b[43m(\u001b[49m\n\u001b[0;32m    461\u001b[0m \u001b[43m    \u001b[49m\u001b[43mdelayed\u001b[49m\u001b[43m(\u001b[49m\u001b[43m_parallel_build_trees\u001b[49m\u001b[43m)\u001b[49m\u001b[43m(\u001b[49m\n\u001b[0;32m    462\u001b[0m \u001b[43m        \u001b[49m\u001b[43mt\u001b[49m\u001b[43m,\u001b[49m\n\u001b[0;32m    463\u001b[0m \u001b[43m        \u001b[49m\u001b[38;5;28;43mself\u001b[39;49m\u001b[38;5;241;43m.\u001b[39;49m\u001b[43mbootstrap\u001b[49m\u001b[43m,\u001b[49m\n\u001b[0;32m    464\u001b[0m \u001b[43m        \u001b[49m\u001b[43mX\u001b[49m\u001b[43m,\u001b[49m\n\u001b[0;32m    465\u001b[0m \u001b[43m        \u001b[49m\u001b[43my\u001b[49m\u001b[43m,\u001b[49m\n\u001b[0;32m    466\u001b[0m \u001b[43m        \u001b[49m\u001b[43msample_weight\u001b[49m\u001b[43m,\u001b[49m\n\u001b[0;32m    467\u001b[0m \u001b[43m        \u001b[49m\u001b[43mi\u001b[49m\u001b[43m,\u001b[49m\n\u001b[0;32m    468\u001b[0m \u001b[43m        \u001b[49m\u001b[38;5;28;43mlen\u001b[39;49m\u001b[43m(\u001b[49m\u001b[43mtrees\u001b[49m\u001b[43m)\u001b[49m\u001b[43m,\u001b[49m\n\u001b[0;32m    469\u001b[0m \u001b[43m        \u001b[49m\u001b[43mverbose\u001b[49m\u001b[38;5;241;43m=\u001b[39;49m\u001b[38;5;28;43mself\u001b[39;49m\u001b[38;5;241;43m.\u001b[39;49m\u001b[43mverbose\u001b[49m\u001b[43m,\u001b[49m\n\u001b[0;32m    470\u001b[0m \u001b[43m        \u001b[49m\u001b[43mclass_weight\u001b[49m\u001b[38;5;241;43m=\u001b[39;49m\u001b[38;5;28;43mself\u001b[39;49m\u001b[38;5;241;43m.\u001b[39;49m\u001b[43mclass_weight\u001b[49m\u001b[43m,\u001b[49m\n\u001b[0;32m    471\u001b[0m \u001b[43m        \u001b[49m\u001b[43mn_samples_bootstrap\u001b[49m\u001b[38;5;241;43m=\u001b[39;49m\u001b[43mn_samples_bootstrap\u001b[49m\u001b[43m,\u001b[49m\n\u001b[0;32m    472\u001b[0m \u001b[43m    \u001b[49m\u001b[43m)\u001b[49m\n\u001b[0;32m    473\u001b[0m \u001b[43m    \u001b[49m\u001b[38;5;28;43;01mfor\u001b[39;49;00m\u001b[43m \u001b[49m\u001b[43mi\u001b[49m\u001b[43m,\u001b[49m\u001b[43m \u001b[49m\u001b[43mt\u001b[49m\u001b[43m \u001b[49m\u001b[38;5;129;43;01min\u001b[39;49;00m\u001b[43m \u001b[49m\u001b[38;5;28;43menumerate\u001b[39;49m\u001b[43m(\u001b[49m\u001b[43mtrees\u001b[49m\u001b[43m)\u001b[49m\n\u001b[0;32m    474\u001b[0m \u001b[43m\u001b[49m\u001b[43m)\u001b[49m\n\u001b[0;32m    476\u001b[0m \u001b[38;5;66;03m# Collect newly grown trees\u001b[39;00m\n\u001b[0;32m    477\u001b[0m \u001b[38;5;28mself\u001b[39m\u001b[38;5;241m.\u001b[39mestimators_\u001b[38;5;241m.\u001b[39mextend(trees)\n",
      "File \u001b[1;32mc:\\Users\\Admin\\AppData\\Local\\Programs\\Python\\Python311\\Lib\\site-packages\\sklearn\\utils\\parallel.py:65\u001b[0m, in \u001b[0;36mParallel.__call__\u001b[1;34m(self, iterable)\u001b[0m\n\u001b[0;32m     60\u001b[0m config \u001b[38;5;241m=\u001b[39m get_config()\n\u001b[0;32m     61\u001b[0m iterable_with_config \u001b[38;5;241m=\u001b[39m (\n\u001b[0;32m     62\u001b[0m     (_with_config(delayed_func, config), args, kwargs)\n\u001b[0;32m     63\u001b[0m     \u001b[38;5;28;01mfor\u001b[39;00m delayed_func, args, kwargs \u001b[38;5;129;01min\u001b[39;00m iterable\n\u001b[0;32m     64\u001b[0m )\n\u001b[1;32m---> 65\u001b[0m \u001b[38;5;28;01mreturn\u001b[39;00m \u001b[38;5;28;43msuper\u001b[39;49m\u001b[43m(\u001b[49m\u001b[43m)\u001b[49m\u001b[38;5;241;43m.\u001b[39;49m\u001b[38;5;21;43m__call__\u001b[39;49m\u001b[43m(\u001b[49m\u001b[43miterable_with_config\u001b[49m\u001b[43m)\u001b[49m\n",
      "File \u001b[1;32mc:\\Users\\Admin\\AppData\\Local\\Programs\\Python\\Python311\\Lib\\site-packages\\joblib\\parallel.py:1952\u001b[0m, in \u001b[0;36mParallel.__call__\u001b[1;34m(self, iterable)\u001b[0m\n\u001b[0;32m   1946\u001b[0m \u001b[38;5;66;03m# The first item from the output is blank, but it makes the interpreter\u001b[39;00m\n\u001b[0;32m   1947\u001b[0m \u001b[38;5;66;03m# progress until it enters the Try/Except block of the generator and\u001b[39;00m\n\u001b[0;32m   1948\u001b[0m \u001b[38;5;66;03m# reach the first `yield` statement. This starts the aynchronous\u001b[39;00m\n\u001b[0;32m   1949\u001b[0m \u001b[38;5;66;03m# dispatch of the tasks to the workers.\u001b[39;00m\n\u001b[0;32m   1950\u001b[0m \u001b[38;5;28mnext\u001b[39m(output)\n\u001b[1;32m-> 1952\u001b[0m \u001b[38;5;28;01mreturn\u001b[39;00m output \u001b[38;5;28;01mif\u001b[39;00m \u001b[38;5;28mself\u001b[39m\u001b[38;5;241m.\u001b[39mreturn_generator \u001b[38;5;28;01melse\u001b[39;00m \u001b[38;5;28mlist\u001b[39m(output)\n",
      "File \u001b[1;32mc:\\Users\\Admin\\AppData\\Local\\Programs\\Python\\Python311\\Lib\\site-packages\\joblib\\parallel.py:1595\u001b[0m, in \u001b[0;36mParallel._get_outputs\u001b[1;34m(self, iterator, pre_dispatch)\u001b[0m\n\u001b[0;32m   1592\u001b[0m     \u001b[38;5;28;01myield\u001b[39;00m\n\u001b[0;32m   1594\u001b[0m     \u001b[38;5;28;01mwith\u001b[39;00m \u001b[38;5;28mself\u001b[39m\u001b[38;5;241m.\u001b[39m_backend\u001b[38;5;241m.\u001b[39mretrieval_context():\n\u001b[1;32m-> 1595\u001b[0m         \u001b[38;5;28;01myield from\u001b[39;00m \u001b[38;5;28mself\u001b[39m\u001b[38;5;241m.\u001b[39m_retrieve()\n\u001b[0;32m   1597\u001b[0m \u001b[38;5;28;01mexcept\u001b[39;00m \u001b[38;5;167;01mGeneratorExit\u001b[39;00m:\n\u001b[0;32m   1598\u001b[0m     \u001b[38;5;66;03m# The generator has been garbage collected before being fully\u001b[39;00m\n\u001b[0;32m   1599\u001b[0m     \u001b[38;5;66;03m# consumed. This aborts the remaining tasks if possible and warn\u001b[39;00m\n\u001b[0;32m   1600\u001b[0m     \u001b[38;5;66;03m# the user if necessary.\u001b[39;00m\n\u001b[0;32m   1601\u001b[0m     \u001b[38;5;28mself\u001b[39m\u001b[38;5;241m.\u001b[39m_exception \u001b[38;5;241m=\u001b[39m \u001b[38;5;28;01mTrue\u001b[39;00m\n",
      "File \u001b[1;32mc:\\Users\\Admin\\AppData\\Local\\Programs\\Python\\Python311\\Lib\\site-packages\\joblib\\parallel.py:1699\u001b[0m, in \u001b[0;36mParallel._retrieve\u001b[1;34m(self)\u001b[0m\n\u001b[0;32m   1692\u001b[0m \u001b[38;5;28;01mwhile\u001b[39;00m \u001b[38;5;28mself\u001b[39m\u001b[38;5;241m.\u001b[39m_wait_retrieval():\n\u001b[0;32m   1693\u001b[0m \n\u001b[0;32m   1694\u001b[0m     \u001b[38;5;66;03m# If the callback thread of a worker has signaled that its task\u001b[39;00m\n\u001b[0;32m   1695\u001b[0m     \u001b[38;5;66;03m# triggered an exception, or if the retrieval loop has raised an\u001b[39;00m\n\u001b[0;32m   1696\u001b[0m     \u001b[38;5;66;03m# exception (e.g. `GeneratorExit`), exit the loop and surface the\u001b[39;00m\n\u001b[0;32m   1697\u001b[0m     \u001b[38;5;66;03m# worker traceback.\u001b[39;00m\n\u001b[0;32m   1698\u001b[0m     \u001b[38;5;28;01mif\u001b[39;00m \u001b[38;5;28mself\u001b[39m\u001b[38;5;241m.\u001b[39m_aborting:\n\u001b[1;32m-> 1699\u001b[0m         \u001b[38;5;28;43mself\u001b[39;49m\u001b[38;5;241;43m.\u001b[39;49m\u001b[43m_raise_error_fast\u001b[49m\u001b[43m(\u001b[49m\u001b[43m)\u001b[49m\n\u001b[0;32m   1700\u001b[0m         \u001b[38;5;28;01mbreak\u001b[39;00m\n\u001b[0;32m   1702\u001b[0m     \u001b[38;5;66;03m# If the next job is not ready for retrieval yet, we just wait for\u001b[39;00m\n\u001b[0;32m   1703\u001b[0m     \u001b[38;5;66;03m# async callbacks to progress.\u001b[39;00m\n",
      "File \u001b[1;32mc:\\Users\\Admin\\AppData\\Local\\Programs\\Python\\Python311\\Lib\\site-packages\\joblib\\parallel.py:1734\u001b[0m, in \u001b[0;36mParallel._raise_error_fast\u001b[1;34m(self)\u001b[0m\n\u001b[0;32m   1730\u001b[0m \u001b[38;5;66;03m# If this error job exists, immediatly raise the error by\u001b[39;00m\n\u001b[0;32m   1731\u001b[0m \u001b[38;5;66;03m# calling get_result. This job might not exists if abort has been\u001b[39;00m\n\u001b[0;32m   1732\u001b[0m \u001b[38;5;66;03m# called directly or if the generator is gc'ed.\u001b[39;00m\n\u001b[0;32m   1733\u001b[0m \u001b[38;5;28;01mif\u001b[39;00m error_job \u001b[38;5;129;01mis\u001b[39;00m \u001b[38;5;129;01mnot\u001b[39;00m \u001b[38;5;28;01mNone\u001b[39;00m:\n\u001b[1;32m-> 1734\u001b[0m     \u001b[43merror_job\u001b[49m\u001b[38;5;241;43m.\u001b[39;49m\u001b[43mget_result\u001b[49m\u001b[43m(\u001b[49m\u001b[38;5;28;43mself\u001b[39;49m\u001b[38;5;241;43m.\u001b[39;49m\u001b[43mtimeout\u001b[49m\u001b[43m)\u001b[49m\n",
      "File \u001b[1;32mc:\\Users\\Admin\\AppData\\Local\\Programs\\Python\\Python311\\Lib\\site-packages\\joblib\\parallel.py:736\u001b[0m, in \u001b[0;36mBatchCompletionCallBack.get_result\u001b[1;34m(self, timeout)\u001b[0m\n\u001b[0;32m    730\u001b[0m backend \u001b[38;5;241m=\u001b[39m \u001b[38;5;28mself\u001b[39m\u001b[38;5;241m.\u001b[39mparallel\u001b[38;5;241m.\u001b[39m_backend\n\u001b[0;32m    732\u001b[0m \u001b[38;5;28;01mif\u001b[39;00m backend\u001b[38;5;241m.\u001b[39msupports_retrieve_callback:\n\u001b[0;32m    733\u001b[0m     \u001b[38;5;66;03m# We assume that the result has already been retrieved by the\u001b[39;00m\n\u001b[0;32m    734\u001b[0m     \u001b[38;5;66;03m# callback thread, and is stored internally. It's just waiting to\u001b[39;00m\n\u001b[0;32m    735\u001b[0m     \u001b[38;5;66;03m# be returned.\u001b[39;00m\n\u001b[1;32m--> 736\u001b[0m     \u001b[38;5;28;01mreturn\u001b[39;00m \u001b[38;5;28;43mself\u001b[39;49m\u001b[38;5;241;43m.\u001b[39;49m\u001b[43m_return_or_raise\u001b[49m\u001b[43m(\u001b[49m\u001b[43m)\u001b[49m\n\u001b[0;32m    738\u001b[0m \u001b[38;5;66;03m# For other backends, the main thread needs to run the retrieval step.\u001b[39;00m\n\u001b[0;32m    739\u001b[0m \u001b[38;5;28;01mtry\u001b[39;00m:\n",
      "File \u001b[1;32mc:\\Users\\Admin\\AppData\\Local\\Programs\\Python\\Python311\\Lib\\site-packages\\joblib\\parallel.py:754\u001b[0m, in \u001b[0;36mBatchCompletionCallBack._return_or_raise\u001b[1;34m(self)\u001b[0m\n\u001b[0;32m    752\u001b[0m \u001b[38;5;28;01mtry\u001b[39;00m:\n\u001b[0;32m    753\u001b[0m     \u001b[38;5;28;01mif\u001b[39;00m \u001b[38;5;28mself\u001b[39m\u001b[38;5;241m.\u001b[39mstatus \u001b[38;5;241m==\u001b[39m TASK_ERROR:\n\u001b[1;32m--> 754\u001b[0m         \u001b[38;5;28;01mraise\u001b[39;00m \u001b[38;5;28mself\u001b[39m\u001b[38;5;241m.\u001b[39m_result\n\u001b[0;32m    755\u001b[0m     \u001b[38;5;28;01mreturn\u001b[39;00m \u001b[38;5;28mself\u001b[39m\u001b[38;5;241m.\u001b[39m_result\n\u001b[0;32m    756\u001b[0m \u001b[38;5;28;01mfinally\u001b[39;00m:\n",
      "\u001b[1;31mMemoryError\u001b[0m: could not allocate 33554432 bytes"
     ]
    }
   ],
   "source": [
    "# Model definition\n",
    "forest = en.ExtraTreesClassifier(n_estimators = 250, random_state = 0, n_jobs = -1)\n",
    "\n",
    "# Data preparation\n",
    "x_train_n = df5.drop(['id', 'response'], axis = 1)\n",
    "y_train_n = y_train.values\n",
    "forest.fit(x_train_n, y_train_n)"
   ]
  },
  {
   "cell_type": "code",
   "execution_count": null,
   "id": "fb9a0dee-80e0-45c4-9c46-d544a9aa9259",
   "metadata": {},
   "outputs": [
    {
     "name": "stdout",
     "output_type": "stream",
     "text": [
      "Feature Ranking\n",
      "                         Feature  Importance\n",
      "0                        vintage    0.307194\n",
      "0                 annual_premium    0.302801\n",
      "0                            age    0.181407\n",
      "0                    region_code    0.150978\n",
      "0           policy_sales_channel    0.047854\n",
      "0                         gender    0.005237\n",
      "0             previously_insured    0.002192\n",
      "0                 vehicle_damage    0.001356\n",
      "0  vehicle_age_between_1_2_years    0.000335\n",
      "0       vehicle_age_below_1_year    0.000255\n",
      "0       vehicle_age_over_2_years    0.000196\n",
      "0                driving_license    0.000195\n"
     ]
    }
   ],
   "source": [
    "#importances = forest.feature_importances_\n",
    "#std = np.std([tree.feature_importances_ for tree in forest.estimators_], axis = 0) \n",
    "#indices = np.argsort(importances)[::-1]\n",
    "\n",
    "# Print the feature Ranking\n",
    "print('Feature Ranking')\n",
    "df = pd.DataFrame()\n",
    "for i, j in zip(x_train_n, forest.feature_importances_):\n",
    "    aux = pd.DataFrame({'Feature': i, 'Importance': j}, index=[0])\n",
    "    df = pd.concat([df, aux], axis=0)\n",
    "    \n",
    "print(df.sort_values('Importance', ascending=False))\n",
    "\n",
    "# Plot the impurity-based feature importances of the forest\n",
    "#plt.figure()\n",
    "#plt.title('Feature Importances')\n",
    "#plt.bar(range(x_train_n.shape[1]), importances[indices], color='r', yerr=std[indices], align='center')\n",
    "#plt.xticks(range(x_train_n.shape[1]), indices)\n",
    "#plt.xlim([-1, x_train_n.shape[1]])\n",
    "#plt.show()"
   ]
  },
  {
   "cell_type": "markdown",
   "id": "accc3b39-b528-4ae6-af90-0ddfcff38d69",
   "metadata": {},
   "source": [
    "# 7.0 Machine Learning"
   ]
  },
  {
   "cell_type": "code",
   "execution_count": null,
   "metadata": {},
   "outputs": [],
   "source": [
    "cols_selected = ['annual_premium', 'vintage', 'age', 'region_code', 'vehicle_damage', 'previously_insured', 'policy_sales_channel']\n",
    "\n",
    "x_train = df5[cols_selected]\n",
    "x_val = x_validation[cols_selected]\n"
   ]
  },
  {
   "cell_type": "markdown",
   "metadata": {},
   "source": [
    "## 7.1 KNN"
   ]
  },
  {
   "cell_type": "code",
   "execution_count": null,
   "id": "c114a2b2-15a2-4807-b52d-12ad2aeede36",
   "metadata": {},
   "outputs": [],
   "source": [
    "# Model Definition\n",
    "knn_model = nh.KNeighborsClassifier(n_neighbors= 7)\n",
    "\n",
    "# Model Training\n",
    "knn_model.fit(x_train, y_train)\n",
    "\n",
    "# Model Prediction\n",
    "yhat_knn = knn_model.predict_proba(x_val)"
   ]
  },
  {
   "cell_type": "code",
   "execution_count": null,
   "id": "5d0d82a7-b332-4eac-adb9-54fe4b08a3ca",
   "metadata": {},
   "outputs": [
    {
     "data": {
      "text/plain": [
       "<Axes: title={'center': 'Cumulative Gains Curve'}, xlabel='Percentage of sample', ylabel='Gain'>"
      ]
     },
     "execution_count": 90,
     "metadata": {},
     "output_type": "execute_result"
    },
    {
     "data": {
      "image/png": "[encoded data removed]",
      "text/plain": [
       "<Figure size 640x480 with 1 Axes>"
      ]
     },
     "metadata": {},
     "output_type": "display_data"
    }
   ],
   "source": [
    "# Accumulative Gain\n",
    "skplt.metrics.plot_cumulative_gain(y_validation, yhat_knn)"
   ]
  },
  {
   "cell_type": "code",
   "execution_count": null,
   "id": "7497c473-54dd-46b0-9f07-47f64ee36b60",
   "metadata": {},
   "outputs": [],
   "source": []
  },
  {
   "cell_type": "markdown",
   "metadata": {},
   "source": [
    "# 8 Model Performance"
   ]
  },
  {
   "cell_type": "code",
   "execution_count": null,
   "metadata": {},
   "outputs": [],
   "source": [
    "def precision_at_k(data, k=2000):\n",
    "    # reset index\n",
    "    data = data.reset_index(drop=True)\n",
    "\n",
    "    # create ranking order\n",
    "    data['ranking'] = data.index + 1\n",
    "\n",
    "    data['precision_at_k'] = data['response'].cumsum() / data['ranking']\n",
    "\n",
    "    return data.loc[k, 'precision_at_k']"
   ]
  },
  {
   "cell_type": "code",
   "execution_count": null,
   "metadata": {},
   "outputs": [],
   "source": [
    "def recall_at_k(data, k=2000):\n",
    "    # reset index\n",
    "    data = data.reset_index(drop=True)\n",
    "\n",
    "    # create ranking order\n",
    "    data['ranking'] = data.index + 1\n",
    "\n",
    "    data['recall_at_k'] = data['response'].cumsum() / data['response'].sum()\n",
    "\n",
    "    return data.loc[k, 'recall_at_k']"
   ]
  },
  {
   "cell_type": "code",
   "execution_count": null,
   "metadata": {},
   "outputs": [
    {
     "name": "stdout",
     "output_type": "stream",
     "text": [
      "Precision at K: 0.2549019607843137\n",
      "Recall at K: 0.0014101312506779478\n"
     ]
    }
   ],
   "source": [
    "# Copy Data\n",
    "df8 = x_validation.copy()\n",
    "df8['response'] = y_validation.copy()\n",
    "\n",
    "# propensity score\n",
    "df8['score'] = yhat_knn[:, 1].tolist()\n",
    "\n",
    "# sorted clients by propensity score\n",
    "df8 = df8.sort_values('score', ascending = False)\n",
    "\n",
    "# compute precision at k\n",
    "precision_at_50 = precision_at_k(df8, k=50)\n",
    "print('Precision at K: {}'.format(precision_at_50))\n",
    "\n",
    "# compute precision at k\n",
    "recall_at_50 = recall_at_k(df8, k=50)\n",
    "print('Recall at K: {}'.format(recall_at_50))"
   ]
  },
  {
   "cell_type": "code",
   "execution_count": null,
   "id": "a9a0bb68",
   "metadata": {},
   "outputs": [],
   "source": []
  }
 ],
 "metadata": {
  "kernelspec": {
   "display_name": "Python 3 (ipykernel)",
   "language": "python",
   "name": "python3"
  },
  "language_info": {
   "codemirror_mode": {
    "name": "ipython",
    "version": 3
   },
   "file_extension": ".py",
   "mimetype": "text/x-python",
   "name": "python",
   "nbconvert_exporter": "python",
   "pygments_lexer": "ipython3",
   "version": "3.11.4"
  }
 },
 "nbformat": 4,
 "nbformat_minor": 5
}
